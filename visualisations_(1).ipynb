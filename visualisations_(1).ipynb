{
  "nbformat": 4,
  "nbformat_minor": 0,
  "metadata": {
    "colab": {
      "private_outputs": true,
      "provenance": [],
      "cell_execution_strategy": "setup",
      "include_colab_link": true
    },
    "kernelspec": {
      "name": "python3",
      "display_name": "Python 3"
    },
    "language_info": {
      "name": "python"
    }
  },
  "cells": [
    {
      "cell_type": "markdown",
      "metadata": {
        "id": "view-in-github",
        "colab_type": "text"
      },
      "source": [
        "<a href=\"https://colab.research.google.com/github/Brave-cyber-security/Brave-cyber-security/blob/main/visualisations_(1).ipynb\" target=\"_parent\"><img src=\"https://colab.research.google.com/assets/colab-badge.svg\" alt=\"Open In Colab\"/></a>"
      ]
    },
    {
      "cell_type": "code",
      "execution_count": null,
      "metadata": {
        "id": "8JarZOQLNREx"
      },
      "outputs": [],
      "source": [
        "import pandas as pd\n",
        "import numpy as np\n",
        "import seaborn as sns\n",
        "import matplotlib.pyplot as plt\n",
        "import warnings\n",
        "\n",
        "warnings.filterwarnings('ignore')"
      ]
    },
    {
      "cell_type": "markdown",
      "source": [
        "### This data set is an example for regression analysis, we will use for scatter plots, heatmaps, and distribution plots"
      ],
      "metadata": {
        "id": "ZtyHDEotN3qm"
      }
    },
    {
      "cell_type": "code",
      "source": [
        "path = '/content/sample_data/california_housing_train.csv'\n",
        "df = pd.read_csv(path)\n",
        "df.head()"
      ],
      "metadata": {
        "id": "ZA4UW5N3NfO_"
      },
      "execution_count": null,
      "outputs": []
    },
    {
      "cell_type": "markdown",
      "source": [
        "## Data Visualization for Housing Price Dataset\n",
        "\n",
        "### **Histogram (Price Distribution) (to see Distribution of Numerical Features)**\n",
        "* **Use:** To see the distribution of house prices.\n",
        "* **Best for:** Understanding the range and spread of housing prices.\n",
        "\n",
        "### **Bar Plot (House Count by Location) (to see Categorical Feature Distributions)**\n",
        "* **Use:** To compare the number of houses available in different locations.\n",
        "* **Best for:** Identifying which locations have the most properties.\n",
        "\n",
        "### **Box Plot (Price vs. Number of Rooms) (to see Relationships Between Features)**\n",
        "* **Use:** To compare price distribution across different house sizes.\n",
        "* **Best for:** Identifying how price varies based on the number of rooms.\n",
        "\n",
        "### **Pie Chart (House Type Proportions) (to see Category Proportions)**\n",
        "* **Use:** To show the proportion of different house types (e.g., apartments, villas, townhouses).\n",
        "* **Best for:** Understanding the distribution of house types.\n",
        "\n",
        "### **Heatmap (Correlation Matrix) (to see Correlations Between Features)**\n",
        "* **Use:** To see how numerical features (e.g., price, area, number of rooms) are correlated.\n",
        "* **Best for:** Identifying relationships between price and other features.\n",
        "\n",
        "### **Pair Plot (Multiple Features) (to see Multivariable Relationships)**\n",
        "* **Use:** To visualize relationships between multiple numerical features.\n",
        "* **Best for:** Spotting trends among price, area, number of rooms, and other numerical attributes.\n",
        "\n",
        "### **Line Plot (Price Trend Over Time) (to see Trends in Numerical Data)**\n",
        "* **Use:** To visualize house price trends over time.\n",
        "* **Best for:** Understanding how house prices fluctuate over different time periods.\n",
        "\n",
        "---\n",
        "\n",
        "## **Summary: Which Plots to Use?**\n",
        "\n",
        "| **Visualization Type** | **Feature Type**              | **Insights Gained**                                      |\n",
        "|------------------------|------------------------------|----------------------------------------------------------|\n",
        "| **Histogram**         | Numerical                    | Price distribution across houses                        |\n",
        "| **Bar Plot**          | Categorical vs. Numerical    | Number of houses per location                           |\n",
        "| **Box Plot**          | Numerical vs. Categorical    | Price variation by number of rooms                     |\n",
        "| **Pie Chart**         | Categorical                  | Proportion of house types                              |\n",
        "| **Heatmap**           | Correlation                  | Relationship between numerical features                 |\n",
        "| **Pair Plot**         | Multiple Features            | Trends in price, area, and number of rooms             |\n",
        "| **Line Plot**         | Numerical (Time Series)      | Price trends over time                                 |\n"
      ],
      "metadata": {
        "id": "iaQ5zDiwSzxW"
      }
    },
    {
      "cell_type": "code",
      "source": [
        "plt.figure(figsize= (16,5))\n",
        "sns.histplot(data = df, x='median_house_value')\n",
        "plt.show()"
      ],
      "metadata": {
        "id": "flINVYxTR3be"
      },
      "execution_count": null,
      "outputs": []
    },
    {
      "cell_type": "markdown",
      "source": [
        "## ma'lumotlar o'ngga og'gan, 500000 qiymati atrofida outlierlar bor, outierlar tushurib qoldiriladi"
      ],
      "metadata": {
        "id": "lisJUZuaVJEs"
      }
    },
    {
      "cell_type": "markdown",
      "source": [
        "##  **Uy narxlari ma'lumotlar to'plamidan outlierlarni olib tashlash**\n",
        "\n",
        "###  **Interquartile Range (IQR) usuli orqali outlierlarni chiqarish**\n",
        "\n",
        "* **Foydalanish maqsadi:** Me'yordan chetga chiqqan qiymatlarni olib tashlash.\n",
        "* **Eng yaxshi natija uchun:** Uy narxlari bo‘yicha noto‘g‘ri qiymatlarni filtrlash va tahlilni aniqroq qilish.\n",
        "\n",
        "###  **1. Kvartillarning aniqlanishi:**\n",
        "- `q1` - 25% pastki qismidagi qiymatlar chegarasi.\n",
        "- `q2` - median (o‘rtacha qiymat).\n",
        "- `q3` - 75% yuqori qismidagi qiymatlar chegarasi.\n",
        "\n",
        "###  **2. IQR hisoblanishi:**\n",
        "- `iqr = q3 - q1` - bu asosiy ma'lumotlar diapazonini ko‘rsatadi.\n",
        "\n",
        "###  **3. Outlierlarni aniqlash va chiqarib tashlash:**\n",
        "- `mask1` orqali juda kichik qiymatlar olib tashlanadi.\n",
        "- `mask2` orqali juda katta qiymatlar olib tashlanadi.\n",
        "- `df1` - outlierlarsiz yangi DataFrame.\n",
        "\n",
        "###  **Nima uchun outlierlar olib tashlanadi?**\n",
        "|  **Sabab**                               |  **Tavsif**  |\n",
        "|-----------------------------------------|-------------|\n",
        "|  **Noto‘g‘ri natijalarga olib keladi**   | Outlierlar statistik natijalarga ta’sir qilishi mumkin. |\n",
        "|  **Mashina o‘rganish modeli xatolarga duch keladi** | Model noto‘g‘ri o‘rganishi va noto‘g‘ri bashorat qilishi mumkin. |\n",
        "|  **Vizualizatsiyani buzadi**             | Grafiklardagi noto‘g‘ri qiymatlar ma'lumotlarni noto‘g‘ri aks ettirishi mumkin. |\n",
        "\n",
        "Ushbu kod natijasida **`df1`** nomli yangi DataFrame hosil bo‘lib, unda outlierlar chiqarib tashlangan bo‘ladi.\n",
        "\n"
      ],
      "metadata": {
        "id": "cv8QIweQVJAe"
      }
    },
    {
      "cell_type": "code",
      "source": [
        "q1, q2, q3 = df['median_house_value'].quantile([0.25,0.50,0.75])\n",
        "iqr = q3-q1\n",
        "mask1 = df['median_house_value'] > q1 - 1.5*iqr\n",
        "mask2 = df['median_house_value'] < q3 +  1.5*iqr\n",
        "df1 = df[mask1 & mask2].copy()\n",
        "df1"
      ],
      "metadata": {
        "id": "e6tbGhWrR3YG"
      },
      "execution_count": null,
      "outputs": []
    },
    {
      "cell_type": "markdown",
      "source": [
        "##  **Uy narxlari ma'lumotlar to'plamidan outlierlarni olib tashlash**\n",
        "\n",
        "###  **Interquartile Range (IQR) usuli orqali outlierlarni chiqarish**\n",
        "\n",
        "* **Foydalanish maqsadi:** Me'yordan chetga chiqqan qiymatlarni olib tashlash.\n",
        "* **Eng yaxshi natija uchun:** Uy narxlari bo‘yicha noto‘g‘ri qiymatlarni filtrlash va tahlilni aniqroq qilish.\n",
        "\n",
        "###  **Kod tushuntirishi**\n",
        "\n",
        "###  **1. Grafik o‘lchamini sozlash:**\n",
        "- **`plt.figure(figsize=(16, 5))`** - Grafikning o‘lchamini 16x5 birlikka sozlaydi.\n",
        "\n",
        "###  **2. X o‘qidagi qiymatlar va formatlash:**\n",
        "- **`np.arange(start=0, stop=510000, step=20000)`** - X o‘qida 0 dan 510000 gacha bo‘lgan qiymatlarni 20000 oraliq bilan belgilaydi.\n",
        "- **`plt.xticks(x_val, rotation=90)`** - X o‘qidagi qiymatlarni 90 darajaga burib qo‘yadi, shunda yozuvlar bir-biriga qoplanib qolmaydi.\n",
        "\n",
        "###  **3. Y o‘qidagi qiymatlar va formatlash:**\n",
        "- **`np.arange(start=0, stop=1000, step=40)`** - Y o‘qida 0 dan 1000 gacha bo‘lgan qiymatlarni 40 oraliq bilan belgilaydi.\n",
        "- **`plt.yticks(y_val)`** - Y o‘qida yuqoridagi qiymatlarni qo‘llaydi.\n",
        "\n",
        "###  **4. Fon katakchalarini qo‘shish:**\n",
        "- **`plt.grid()`** - Grafikning foniga yordamchi katakchalar qo‘shiladi, bu vizualizatsiyani yaxshilaydi.\n",
        "\n",
        "###  **5. Grafik nomi va o‘qlar nomlarini belgilash:**\n",
        "- **`plt.title(\"Uy narxlari taqsimoti\")`** - Grafikning umumiy sarlavhasini qo‘yadi.\n",
        "- **`plt.xlabel(\"Uylarning o'rtacha narxi\")`** - X o‘qiga nom beradi.\n",
        "- **`plt.ylabel(\"Ushbu narxdagi uylar soni\")`** - Y o‘qiga nom beradi.\n",
        "\n",
        "###  **6. Histogram chizish:**\n",
        "- **`sns.histplot(data=df1, x='median_house_value')`** - `median_house_value` ustuni bo‘yicha uy narxlarining taqsimotini ko‘rsatadigan histogram hosil qiladi.\n",
        "\n",
        "Bu vizualizatsiya yordamida uy narxlarining qanday taqsimlangani, eng ko‘p uchraydigan narx diapazonlari va narxlarning umumiy trendi haqida ma’lumot olish mumkin.\n",
        "\n"
      ],
      "metadata": {
        "id": "u_zl5vA72e37"
      }
    },
    {
      "cell_type": "code",
      "source": [
        "plt.figure(figsize= (16,5))\n",
        "x_val = np.arange(start= 0, stop = 510000,step = 20000)\n",
        "plt.xticks(x_val, rotation=90)\n",
        "y_val = np.arange(start = 0, stop = 1000, step = 40)\n",
        "plt.yticks(y_val)\n",
        "plt.grid()\n",
        "plt.title('uy narxlari taqsimoti')\n",
        "plt.xlabel(\"uylarning o'rtacha narxi\")\n",
        "plt.ylabel(\"ushbu narxdagi uylar soni\")\n",
        "sns.histplot(data = df1, x='median_house_value')\n",
        "plt.show()"
      ],
      "metadata": {
        "id": "5yFH1raPR3VT"
      },
      "execution_count": null,
      "outputs": []
    },
    {
      "cell_type": "markdown",
      "source": [
        "###  **Kod tushuntirishi**\n",
        "\n",
        "###  **Boxplot (Quti diagramma) nima uchun ishlatiladi?**\n",
        "- **Median (o‘rtacha qiymatni) ko‘rsatish:** Quti ichidagi chiziq taqsimotning o‘rtacha qiymatini bildiradi.\n",
        "- **Kvartillarni tasvirlash:**\n",
        "  - Qutining chap va o‘ng chegaralari 25% va 75% kvartillarni ko‘rsatadi.\n",
        "  - Qutining uzunligi **Interquartile Range (IQR)** ga teng.\n",
        "- **Outlierlarni (chet qiymatlarni) aniqlash:**\n",
        "  - Qutidan tashqaridagi nuqtalar outlier (chetdagi qiymatlar) hisoblanadi.\n",
        "  - Ushbu qiymatlar odatdagi diapazondan tashqariga chiqib ketgan ma'lumotlar bo‘lishi mumkin.\n",
        "\n",
        "###  **Boxplot qanday tushuniladi?**\n",
        "| **Element**       | **Tavsif**  |\n",
        "|------------------|-------------|\n",
        "| **Qutining o‘zi**  | Ma'lumotlarning asosiy taqsimotini ko‘rsatadi |\n",
        "| **O‘rtadagi chiziq** | Median (o‘rtacha qiymat) |\n",
        "| **Qutining uchlari** | 25% va 75% kvartillar |\n",
        "| **Ikkita chiziq (whiskers)** | Ma'lumotlarning eng past va eng yuqori chegaralari |\n",
        "| **Nuqtalar (outlierlar)** | Juda kichik yoki juda katta qiymatlar |\n",
        "\n",
        "###  **Boxplot qanday foyda beradi?**\n",
        "- **Ma'lumotlarning taqsimotini tushunish** – qaysi diapazonda ko‘proq uy narxlari borligini bilish.\n",
        "- **Median va kvartillar orqali tahlil qilish** – asosiy taqsimot qanday ekanligini ko‘rish.\n",
        "- **Outlierlarni aniqlash** – juda past yoki juda yuqori qiymatlarni ajratib olish.\n",
        "\n",
        "Ushbu diagramma yordamida uy narxlarining qanday taqsimlanganligini va qaysi narx diapazonlari ustun ekanligini tushunish mumkin.\n",
        "\n"
      ],
      "metadata": {
        "id": "_IPzJG1A6EJl"
      }
    },
    {
      "cell_type": "code",
      "source": [
        "sns.boxplot(data = df1, x = 'median_house_value')\n",
        "plt.show()"
      ],
      "metadata": {
        "id": "oO6ka6CoR3Sh"
      },
      "execution_count": null,
      "outputs": []
    },
    {
      "cell_type": "markdown",
      "source": [
        "###  **Kod tushuntirishi**\n",
        "\n",
        "###  **Boxplot (Quti diagramma) nima uchun ishlatiladi?**\n",
        "- **Median (o‘rtacha qiymatni) ko‘rsatish:** Quti ichidagi chiziq taqsimotning o‘rtacha qiymatini bildiradi.\n",
        "- **Kvartillarni tasvirlash:**\n",
        "  - Qutining chap va o‘ng chegaralari 25% va 75% kvartillarni ko‘rsatadi.\n",
        "  - Qutining uzunligi **Interquartile Range (IQR)** ga teng.\n",
        "- **Outlierlarni (chet qiymatlarni) aniqlash:**\n",
        "  - Qutidan tashqaridagi nuqtalar outlier (chetdagi qiymatlar) hisoblanadi.\n",
        "  - Ushbu qiymatlar odatdagi diapazondan tashqariga chiqib ketgan ma'lumotlar bo‘lishi mumkin.\n",
        "\n",
        "###  **Boxplot qanday tushuniladi?**\n",
        "| **Element**       | **Tavsif**  |\n",
        "|------------------|-------------|\n",
        "| **Qutining o‘zi**  | Ma'lumotlarning asosiy taqsimotini ko‘rsatadi |\n",
        "| **O‘rtadagi chiziq** | Median (o‘rtacha qiymat) |\n",
        "| **Qutining uchlari** | 25% va 75% kvartillar |\n",
        "| **Ikkita chiziq (whiskers)** | Ma'lumotlarning eng past va eng yuqori chegaralari |\n",
        "| **Nuqtalar (outlierlar)** | Juda kichik yoki juda katta qiymatlar |\n",
        "\n",
        "###  **Boxplot qanday foyda beradi?**\n",
        "- **Ma'lumotlarning taqsimotini tushunish** – qaysi diapazonda ko‘proq uy narxlari borligini bilish.\n",
        "- **Median va kvartillar orqali tahlil qilish** – asosiy taqsimot qanday ekanligini ko‘rish.\n",
        "- **Outlierlarni aniqlash** – juda past yoki juda yuqori qiymatlarni ajratib olish.\n",
        "\n",
        "###  **Korelatsiya jadvali nima va nega ishlatiladi?**\n",
        "- **Korelatsiya (Correlation)** ikki o‘zgaruvchi orasidagi bog‘liqlikni ko‘rsatadi.\n",
        "- **Kod `df.corr()` orqali barcha ustunlar orasidagi bog‘liqlikni hisoblaydi.**\n",
        "- **Foydalanish sababi:** Qaysi omillar uy narxiga ko‘proq ta’sir qilishini bilish.\n",
        "\n",
        "###  **Korelatsiya natijalarini tushunish**\n",
        "| **Korelatsiya qiymati** | **Bog‘liqlik turi**  |\n",
        "|----------------------|------------------|\n",
        "| **1.0**            | To‘liq musbat bog‘liqlik |\n",
        "| **0.5 - 0.9**      | Kuchli musbat bog‘liqlik |\n",
        "| **0.1 - 0.4**      | Zaif musbat bog‘liqlik |\n",
        "| **0**              | Bog‘liqlik yo‘q |\n",
        "| **-0.1 - -0.4**    | Zaif manfiy bog‘liqlik |\n",
        "| **-0.5 - -0.9**    | Kuchli manfiy bog‘liqlik |\n",
        "| **-1.0**           | To‘liq manfiy bog‘liqlik |\n",
        "\n",
        "**Misol:** Agar `median_income` va `median_house_value` orasidagi korelatsiya **0.7** bo‘lsa, bu shuni anglatadiki, daromad oshishi bilan uy narxlari ham oshadi.\n",
        "\n"
      ],
      "metadata": {
        "id": "0QwTT9gcA9-_"
      }
    },
    {
      "cell_type": "code",
      "source": [
        "correl = df.corr()[['median_house_value']]\n",
        "correl"
      ],
      "metadata": {
        "id": "YmdtXMMVR3Pp"
      },
      "execution_count": null,
      "outputs": []
    },
    {
      "cell_type": "markdown",
      "source": [
        "###  **Heatmap (Issiqlik xaritasi) nima uchun ishlatiladi?**\n",
        "- **Heatmap korelatsiya matritsasini vizual ko‘rinishda tasvirlash uchun ishlatiladi.**\n",
        "- **Kod `sns.heatmap(correl, annot=True, cmap='crest')` yordamida chiziladi.**\n",
        "- **Ustun va qatorlar o‘zgaruvchilarni bildiradi, rang esa ularning bog‘liqlik darajasini ko‘rsatadi.**\n",
        "- **Issiq ranglar (masalan, quyuq yashil) yuqori bog‘liqlikni, sovuq ranglar (masalan, ochiq rang) esa past bog‘liqlikni bildiradi.**\n",
        "\n",
        "###  **Heatmap qanday tushuniladi?**\n",
        "| **Element**       | **Tavsif**  |\n",
        "|------------------|-------------|\n",
        "| **Qator va ustunlar**  | O‘zgaruvchilar |\n",
        "| **Rang intensivligi** | Korelatsiya kuchi |\n",
        "| **Annotatsiyalar** | Korelatsiya qiymati raqam sifatida ko‘rsatiladi |\n",
        "\n",
        "###  **Heatmap qanday foyda beradi?**\n",
        "- **Bog‘liqlikni tezda aniqlash** – qaysi omillar uy narxiga ta’sir qilishini ko‘rish.\n",
        "- **Grafik asosida qaror qabul qilish** – qaysi ustunlarni tahlil qilish muhim ekanligini tushunish.\n",
        "- **Ma'lumotlarni vizual ravishda taqdim etish** – murakkab jadval o‘rniga tushunarli grafikdan foydalanish.\n",
        "\n"
      ],
      "metadata": {
        "id": "ytpx_9j4CTPa"
      }
    },
    {
      "cell_type": "code",
      "source": [
        "sns.heatmap(correl,annot = True,  cmap = 'crest')\n",
        "plt.show()"
      ],
      "metadata": {
        "id": "oAuQYBG_R3Mt"
      },
      "execution_count": null,
      "outputs": []
    },
    {
      "cell_type": "markdown",
      "source": [
        "###  **Scatterplot (Geografik taqsimot) nima uchun ishlatiladi?**\n",
        "- **Xaritada uylarning joylashuvini tushunish.**\n",
        "- **X o‘qi (`latitude`) shimoldan janubga joylashuvni bildiradi.**\n",
        "- **Y o‘qi (`longitude`) sharqdan g‘arbga joylashuvni bildiradi.**\n",
        "- **Scatterplot orqali uylarning geografik taqsimoti ko‘rinadi va qaysi hududlarda ko‘proq uy borligi tahlil qilinadi.**"
      ],
      "metadata": {
        "id": "qfGiCANLEart"
      }
    },
    {
      "cell_type": "code",
      "source": [
        "sns.scatterplot(data = df1, x = 'median_house_value', y = 'median_income')\n",
        "plt.show()"
      ],
      "metadata": {
        "id": "oUH1A8mDR3J8"
      },
      "execution_count": null,
      "outputs": []
    },
    {
      "cell_type": "code",
      "source": [
        "sns.scatterplot(data = df1, x='latitude', y='longitude')\n",
        "plt.show()"
      ],
      "metadata": {
        "id": "q5DOddc5R3HK"
      },
      "execution_count": null,
      "outputs": []
    },
    {
      "cell_type": "markdown",
      "source": [
        "###  **Histogram (Uylarning yoshi bo‘yicha taqsimoti)**\n",
        "- **X o‘qi (`housing_median_age`) uylarning yoshi bo‘yicha taqsimotini ko‘rsatadi.**\n",
        "- **Histogram orqali uylarning yoshiga qarab qanday taqsimlangani aniqlanadi.**\n",
        "- **Bu grafik uy bozori qanday rivojlanganini va qaysi yillarda ko‘proq uylar qurilganini tushunishga yordam beradi.**\n",
        "\n"
      ],
      "metadata": {
        "id": "vYVmO97fFhxo"
      }
    },
    {
      "cell_type": "code",
      "source": [
        "plt.figure(figsize= (16,5))\n",
        "sns.histplot(data = df1, x='housing_median_age')\n",
        "plt.show()"
      ],
      "metadata": {
        "id": "7opDz22ER3EX"
      },
      "execution_count": null,
      "outputs": []
    },
    {
      "cell_type": "markdown",
      "source": [
        "# Classification Dataset\n",
        "## 📌 Titanic - Machine Learning from Disaster\n",
        "\n",
        "### Predict passenger survival based on numerical (e.g., age, fare) and categorical (e.g., gender, class) features. Suitable for classification-based visualizations like bar plots, pie charts, and pair plots."
      ],
      "metadata": {
        "id": "NABHbaM4OeV7"
      }
    },
    {
      "cell_type": "code",
      "source": [
        "df2 = sns.load_dataset('titanic')\n",
        "df2 = df2.drop(columns = ['sex','embarked','adult_male','deck','alive','class'])\n",
        "df2 = df2.drop_duplicates()\n",
        "df2['age'] = df2['age'].fillna(df2['age'].median())\n",
        "df2['embark_town'] = df2['embark_town'].fillna(df2['embark_town'].mode()[0])\n",
        "df2.head()"
      ],
      "metadata": {
        "id": "y28gGmWiNryv"
      },
      "execution_count": null,
      "outputs": []
    },
    {
      "cell_type": "markdown",
      "source": [
        "### Histogram (Age Distribution) (to see Distribution of Numerical Features )\n",
        "* Use: To see the distribution of ages among passengers.\n",
        "* Best for: Understanding the age groups of passengers.\n",
        "### Bar Plot (Survival by Class) ( to see Categorical Feature Distributions )\n",
        "* Use: To compare survival rates among different passenger classes.\n",
        "* Best for: Understanding which class had the highest survival rate.\n",
        "### Box Plot (Age vs Class) (to see Relationships Between Features)\n",
        "* Use: To compare age distribution across different passenger classes.\n",
        "* Best for: Identifying how age varied across classes.\n",
        "### Pie Chart (Survival Rate) (to see Survival Proportions)\n",
        "* Use: To show the proportion of passengers who survived vs. those who didn’t.\n",
        "* Best for: Understanding the survival percentage.\n",
        "### Heatmap (Correlation Matrix) ( to see Correlations Between Features)\n",
        "* Use: To see how numerical features are correlated.\n",
        "* Best for: Identifying relationships between features like fare, age, and survival.\n",
        "### Pair Plot (Multiple Features) (to see Multivariable Relationship)\n",
        "* Use: To visualize relationships between multiple numerical features.\n",
        "* Best for: Spotting trends among features like age, fare, and survival.\n",
        "## Summary: Which Plots to Use?\n",
        "\n",
        "| **Visualization Type** | **Feature Type**              | **Insights Gained**                                      |\n",
        "|------------------------|------------------------------|----------------------------------------------------------|\n",
        "| **Histogram**         | Numerical                    | Age distribution                                        |\n",
        "| **Bar Plot**          | Categorical vs. Numerical    | Survival rate by class, gender, etc.                   |\n",
        "| **Box Plot**          | Numerical vs. Categorical    | Age distribution by class                              |\n",
        "| **Pie Chart**         | Categorical                  | Proportion of survival                                 |\n",
        "| **Heatmap**           | Correlation                  | Relationship between features                          |\n",
        "| **Pair Plot**         | Multiple Features            | Trends in numerical features                          |\n"
      ],
      "metadata": {
        "id": "1VeJ3KNTQmlZ"
      }
    },
    {
      "cell_type": "code",
      "source": [
        "sns.histplot(data = df2, x = 'age')\n",
        "plt.show()"
      ],
      "metadata": {
        "id": "BXM3WCtTa5b6"
      },
      "execution_count": null,
      "outputs": []
    },
    {
      "cell_type": "code",
      "source": [
        "sns.histplot(data = df2, x = 'age', kde = True)\n",
        "plt.show()"
      ],
      "metadata": {
        "id": "w51W5i_f0NDR"
      },
      "execution_count": null,
      "outputs": []
    },
    {
      "cell_type": "code",
      "source": [
        "sns.histplot(data= df2, x= 'age',kde = True, hue = 'survived')\n",
        "plt.show()"
      ],
      "metadata": {
        "id": "xO97Ssb1bAkx"
      },
      "execution_count": null,
      "outputs": []
    },
    {
      "cell_type": "code",
      "source": [
        "sns.histplot(data= df2, x= 'age',kde = True, hue = 'who')\n",
        "plt.show()"
      ],
      "metadata": {
        "id": "pdCUpzxObhpy"
      },
      "execution_count": null,
      "outputs": []
    },
    {
      "cell_type": "code",
      "source": [
        "sns.barplot(data=df2, x='pclass',y='survived')\n",
        "plt.show()"
      ],
      "metadata": {
        "id": "bVLXhnXXb72L"
      },
      "execution_count": null,
      "outputs": []
    },
    {
      "cell_type": "code",
      "source": [
        "sns.barplot(data=df2, x='pclass',y='survived', hue='who')\n",
        "y_val = np.arange(start = 0, stop = 1.05, step = 0.05)\n",
        "plt.yticks(y_val)\n",
        "plt.grid()\n",
        "plt.show()"
      ],
      "metadata": {
        "id": "IlKkc-ph1gQA"
      },
      "execution_count": null,
      "outputs": []
    },
    {
      "cell_type": "code",
      "source": [
        "sns.barplot(data=df2, x='who',y='survived', hue='pclass')\n",
        "plt.show()"
      ],
      "metadata": {
        "id": "W1IvkAwXcPTp"
      },
      "execution_count": null,
      "outputs": []
    },
    {
      "cell_type": "code",
      "source": [
        "sns.countplot(data = df2, x='who', hue='survived')\n",
        "y_val = np.arange(start = 0, stop = 370, step = 20)\n",
        "plt.grid()\n",
        "plt.yticks(y_val)\n",
        "plt.show()"
      ],
      "metadata": {
        "id": "bT1E8DA0cuFe"
      },
      "execution_count": null,
      "outputs": []
    },
    {
      "cell_type": "code",
      "source": [
        "counts = df2['embark_town'].value_counts()\n",
        "label = counts.index\n",
        "value = counts.values\n",
        "counts"
      ],
      "metadata": {
        "id": "QCW4CR0YdFVa"
      },
      "execution_count": null,
      "outputs": []
    },
    {
      "cell_type": "code",
      "source": [
        "plt.pie(x = value, labels = label, autopct='%1.1f%%')\n",
        "plt.show()"
      ],
      "metadata": {
        "id": "oFrQdvOYd54Z"
      },
      "execution_count": null,
      "outputs": []
    },
    {
      "cell_type": "code",
      "source": [
        "sns.boxplot(data = df2, y='fare', hue='survived')\n",
        "plt.show()"
      ],
      "metadata": {
        "id": "gRD3O96seVNB"
      },
      "execution_count": null,
      "outputs": []
    },
    {
      "cell_type": "code",
      "source": [
        "sns.boxplot(data = df2, y='age', hue='survived')\n",
        "plt.show()"
      ],
      "metadata": {
        "id": "DiA85Tdze2Vt"
      },
      "execution_count": null,
      "outputs": []
    },
    {
      "cell_type": "markdown",
      "source": [
        "# Titanic Ma'lumotlar To'plamini Vizualizatsiya Qilish\n",
        "\n",
        "## Umumiy Ma'lumot\n",
        "Ushbu skript `seaborn` va `matplotlib` kutubxonalaridan foydalanib, Titanic ma'lumotlar to'plamidan (`df2`) turli grafiklar yaratadi. Ushbu vizualizatsiyalar yo'lovchilarning demografik ma'lumotlari, omon qolish darajasi va boshqa muhim tahlillarni o'rganishga yordam beradi.\n",
        "\n",
        "## Talablar\n",
        "Skriptni ishlatishdan oldin quyidagi Python kutubxonalarini o‘rnatganingizga ishonch hosil qiling:\n",
        "```bash\n",
        "pip install seaborn matplotlib numpy pandas\n",
        "```\n",
        "\n",
        "## Vizualizatsiyalar\n",
        "\n",
        "### 1. Yosh Taqsimoti\n",
        "- **`age` ustuni bo‘yicha gistogramma**:\n",
        "  ```python\n",
        "  sns.histplot(data=df2, x='age')\n",
        "  plt.show()\n",
        "  ```\n",
        "  Yo‘lovchilarning yosh taqsimotini ko‘rsatadi.\n",
        "\n",
        "- **Gistogramma va KDE egri chizig‘i**:\n",
        "  ```python\n",
        "  sns.histplot(data=df2, x='age', kde=True)\n",
        "  plt.show()\n",
        "  ```\n",
        "  Yosh taqsimotiga silliq zichlik egri chizig‘ini qo‘shadi.\n",
        "\n",
        "- **Omon qolganlar bo‘yicha yosh taqsimoti**:\n",
        "  ```python\n",
        "  sns.histplot(data=df2, x='age', kde=True, hue='survived')\n",
        "  plt.show()\n",
        "  ```\n",
        "  Yosh taqsimotining omon qolganlar va halok bo‘lganlar uchun farqini ko‘rsatadi.\n",
        "\n",
        "- **`who` ustuniga ko‘ra yosh taqsimoti**:\n",
        "  ```python\n",
        "  sns.histplot(data=df2, x='age', kde=True, hue='who')\n",
        "  plt.show()\n",
        "  ```\n",
        "  Turli yo‘lovchi toifalarining (erkak, ayol, bola) yosh taqsimotini taqqoslaydi.\n",
        "\n",
        "### 2. Yo‘lovchi Sinfiga Ko‘ra Omon Qolish\n",
        "- **`pclass` va `survived` ustunlari bo‘yicha bar grafik**:\n",
        "  ```python\n",
        "  sns.barplot(data=df2, x='pclass', y='survived')\n",
        "  plt.show()\n",
        "  ```\n",
        "  Har bir sinf uchun o‘rtacha omon qolish foizini ko‘rsatadi.\n",
        "\n",
        "- **`who` bo‘yicha guruhlangan bar grafik**:\n",
        "  ```python\n",
        "  sns.barplot(data=df2, x='pclass', y='survived', hue='who')\n",
        "  y_val = np.arange(start=0, stop=1.05, step=0.05)\n",
        "  plt.yticks(y_val)\n",
        "  plt.grid()\n",
        "  plt.show()\n",
        "  ```\n",
        "  Har bir sinf bo‘yicha omon qolish darajasini yo‘lovchi toifasiga qarab guruhlaydi.\n",
        "\n",
        "- **`who` va `pclass` bo‘yicha omon qolish foizi**:\n",
        "  ```python\n",
        "  sns.barplot(data=df2, x='who', y='survived', hue='pclass')\n",
        "  plt.show()\n",
        "  ```\n",
        "  Turli yo‘lovchi toifalarining turli sinflar bo‘yicha omon qolish farqlarini ko‘rsatadi.\n",
        "\n",
        "### 3. Yo‘lovchilar Soni bo‘yicha Taqqoslash\n",
        "- **`who` ustuniga ko‘ra yo‘lovchilar soni**:\n",
        "  ```python\n",
        "  sns.countplot(data=df2, x='who', hue='survived')\n",
        "  y_val = np.arange(start=0, stop=370, step=20)\n",
        "  plt.grid()\n",
        "  plt.yticks(y_val)\n",
        "  plt.show()\n",
        "  ```\n",
        "  Omon qolgan va halok bo‘lgan yo‘lovchilar sonini ko‘rsatadi.\n",
        "\n",
        "### 4. Jo‘nab Ketgan Shaharlar Taqqoslanishi\n",
        "- **`embark_town` ustunidagi yo‘lovchilar soni bo‘yicha diagramma**:\n",
        "  ```python\n",
        "  counts = df2['embark_town'].value_counts()\n",
        "  label = counts.index\n",
        "  value = counts.values\n",
        "  plt.pie(x=value, labels=label, autopct='%1.1f%%')\n",
        "  plt.show()\n",
        "  ```\n",
        "  Turli shaharlarning yo‘lovchilari foiz nisbatini ko‘rsatadi.\n",
        "\n",
        "### 5. Narx va Yosh Taqsimoti\n",
        "- **`fare` ustunining omon qolganlar bo‘yicha quti diagrammasi**:\n",
        "  ```python\n",
        "  sns.boxplot(data=df2, y='fare', hue='survived')\n",
        "  plt.show()\n",
        "  ```\n",
        "  Yo‘lovchilar to‘lagan chipta narxlarini omon qolish bo‘yicha taqqoslaydi.\n",
        "\n",
        "- **`age` ustunining omon qolganlar bo‘yicha quti diagrammasi**:\n",
        "  ```python\n",
        "  sns.boxplot(data=df2, y='age', hue='survived')\n",
        "  plt.show()\n",
        "  ```\n",
        "  Yosh taqsimotining omon qolgan va halok bo‘lgan yo‘lovchilar uchun qanday farq qilishini ko‘rsatadi.\n",
        "\n",
        "## Xulosa\n",
        "Ushbu skript Titanic ma'lumotlar to‘plamidagi muhim omillarni vizualizatsiya qilish orqali tahlil qilish imkonini beradi. Yosh, sinf, chipta narxi va jo‘nab ketgan joy bo‘yicha omon qolish ehtimolini ko‘rib chiqish mumkin. Agar qo‘shimcha o‘zgartirish yoki tahlil kerak bo‘lsa, skriptni moslashtirish mumkin.\n",
        "\n"
      ],
      "metadata": {
        "id": "Xv0288g0O3-2"
      }
    }
  ]
}